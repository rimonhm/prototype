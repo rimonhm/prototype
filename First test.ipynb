{
 "cells": [
  {
   "cell_type": "code",
   "execution_count": 117,
   "metadata": {
    "collapsed": false
   },
   "outputs": [
    {
     "data": {
      "image/png": "[encoded data removed]",
      "text/plain": [
       "<matplotlib.figure.Figure at 0x7f1758df8090>"
      ]
     },
     "metadata": {},
     "output_type": "display_data"
    }
   ],
   "source": [
    "#Dataset read/plot\n",
    "import pandas\n",
    "import matplotlib.pyplot as plt\n",
    "dataset = pandas.read_csv('test.csv', usecols=[1], engine='python')\n",
    "plt.plot(dataset)\n",
    "plt.show()"
   ]
  },
  {
   "cell_type": "code",
   "execution_count": 52,
   "metadata": {
    "collapsed": false
   },
   "outputs": [],
   "source": [
    "# other required packages\n",
    "import numpy\n",
    "import matplotlib.pyplot as plt\n",
    "import pandas\n",
    "from keras.models import Sequential\n",
    "from keras.layers import Dense"
   ]
  },
  {
   "cell_type": "code",
   "execution_count": 53,
   "metadata": {
    "collapsed": true
   },
   "outputs": [],
   "source": [
    "# fix random seed for reproducibility\n",
    "numpy.random.seed(7)"
   ]
  },
  {
   "cell_type": "code",
   "execution_count": 118,
   "metadata": {
    "collapsed": true
   },
   "outputs": [],
   "source": [
    "# load the dataset\n",
    "dataframe = pandas.read_csv('test.csv', usecols=[1], engine='python')\n",
    "dataset = dataframe.values\n",
    "dataset = dataset.astype('float32')"
   ]
  },
  {
   "cell_type": "code",
   "execution_count": 70,
   "metadata": {
    "collapsed": true
   },
   "outputs": [],
   "source": [
    "\n",
    "dataset2 = pandas.read_csv('val.csv')\n",
    "dataset2 = dataset2.astype('float32')\n",
    "#testX.as_matrix()"
   ]
  },
  {
   "cell_type": "code",
   "execution_count": 122,
   "metadata": {
    "collapsed": false
   },
   "outputs": [
    {
     "name": "stdout",
     "output_type": "stream",
     "text": [
      "(30, 14)\n"
     ]
    }
   ],
   "source": [
    "# split into train and test sets\n",
    "train_size = int(len(dataset) * 0.7)\n",
    "test_size = len(dataset) - train_size\n",
    "train, test = dataset[0:train_size,:], dataset[train_size:len(dataset),:]\n",
    "print(len(train), len(test))"
   ]
  },
  {
   "cell_type": "code",
   "execution_count": 72,
   "metadata": {
    "collapsed": false
   },
   "outputs": [
    {
     "name": "stdout",
     "output_type": "stream",
     "text": [
      "(44, 23)\n"
     ]
    }
   ],
   "source": [
    "# split into train and test sets\n",
    "train_size = int(len(dataset) * 1)\n",
    "test_size =  int(len(dataset2) * 1)\n",
    "train, test = dataset, dataset2.as_matrix()\n",
    "print(len(train), len(test))"
   ]
  },
  {
   "cell_type": "code",
   "execution_count": 67,
   "metadata": {
    "collapsed": false
   },
   "outputs": [
    {
     "data": {
      "text/plain": [
       "15"
      ]
     },
     "execution_count": 67,
     "metadata": {},
     "output_type": "execute_result"
    }
   ],
   "source": [
    "test_size"
   ]
  },
  {
   "cell_type": "code",
   "execution_count": 73,
   "metadata": {
    "collapsed": false
   },
   "outputs": [
    {
     "data": {
      "text/plain": [
       "array([[ 46.],\n",
       "       [ 47.],\n",
       "       [ 48.],\n",
       "       [ 49.],\n",
       "       [ 50.],\n",
       "       [ 51.],\n",
       "       [ 52.],\n",
       "       [ 53.],\n",
       "       [ 54.],\n",
       "       [ 55.],\n",
       "       [ 56.],\n",
       "       [ 57.],\n",
       "       [ 58.],\n",
       "       [ 59.],\n",
       "       [ 60.],\n",
       "       [ 61.],\n",
       "       [ 62.],\n",
       "       [ 63.],\n",
       "       [ 64.],\n",
       "       [ 65.],\n",
       "       [ 66.],\n",
       "       [ 67.],\n",
       "       [ 68.]], dtype=float32)"
      ]
     },
     "execution_count": 73,
     "metadata": {},
     "output_type": "execute_result"
    }
   ],
   "source": [
    "test"
   ]
  },
  {
   "cell_type": "code",
   "execution_count": 123,
   "metadata": {
    "collapsed": true
   },
   "outputs": [],
   "source": [
    "\n",
    "# convert an array of values into a dataset matrix\n",
    "def create_dataset(dataset, look_back=1):\n",
    "    dataX, dataY = [], []\n",
    "    for i in range(len(dataset)-look_back-1):\n",
    "        a = dataset[i:(i+look_back), 0]\n",
    "        dataX.append(a)\n",
    "        dataY.append(dataset[i + look_back, 0])\n",
    "    return numpy.array(dataX), numpy.array(dataY)"
   ]
  },
  {
   "cell_type": "code",
   "execution_count": 124,
   "metadata": {
    "collapsed": false
   },
   "outputs": [],
   "source": [
    "\n",
    "# reshape into X=t and Y=t+1\n",
    "look_back = 1\n",
    "trainX, trainY = create_dataset(train, look_back)\n",
    "testX, testY = create_dataset(test, look_back)"
   ]
  },
  {
   "cell_type": "code",
   "execution_count": 125,
   "metadata": {
    "collapsed": false
   },
   "outputs": [
    {
     "name": "stdout",
     "output_type": "stream",
     "text": [
      "Epoch 1/200\n",
      "0s - loss: 13.6293\n",
      "Epoch 2/200\n",
      "0s - loss: 12.1967\n",
      "Epoch 3/200\n",
      "0s - loss: 10.8786\n",
      "Epoch 4/200\n",
      "0s - loss: 9.6673\n",
      "Epoch 5/200\n",
      "0s - loss: 8.5112\n",
      "Epoch 6/200\n",
      "0s - loss: 7.4705\n",
      "Epoch 7/200\n",
      "0s - loss: 6.5505\n",
      "Epoch 8/200\n",
      "0s - loss: 5.8280\n",
      "Epoch 9/200\n",
      "0s - loss: 4.9822\n",
      "Epoch 10/200\n",
      "0s - loss: 4.3550\n",
      "Epoch 11/200\n",
      "0s - loss: 3.7502\n",
      "Epoch 12/200\n",
      "0s - loss: 3.3226\n",
      "Epoch 13/200\n",
      "0s - loss: 2.8421\n",
      "Epoch 14/200\n",
      "0s - loss: 2.4669\n",
      "Epoch 15/200\n",
      "0s - loss: 2.1607\n",
      "Epoch 16/200\n",
      "0s - loss: 1.8968\n",
      "Epoch 17/200\n",
      "0s - loss: 1.6829\n",
      "Epoch 18/200\n",
      "0s - loss: 1.5136\n",
      "Epoch 19/200\n",
      "0s - loss: 1.3811\n",
      "Epoch 20/200\n",
      "0s - loss: 1.2534\n",
      "Epoch 21/200\n",
      "0s - loss: 1.1653\n",
      "Epoch 22/200\n",
      "0s - loss: 1.1106\n",
      "Epoch 23/200\n",
      "0s - loss: 1.0410\n",
      "Epoch 24/200\n",
      "0s - loss: 1.0037\n",
      "Epoch 25/200\n",
      "0s - loss: 0.9757\n",
      "Epoch 26/200\n",
      "0s - loss: 0.9495\n",
      "Epoch 27/200\n",
      "0s - loss: 0.9361\n",
      "Epoch 28/200\n",
      "0s - loss: 0.9221\n",
      "Epoch 29/200\n",
      "0s - loss: 0.9104\n",
      "Epoch 30/200\n",
      "0s - loss: 0.9032\n",
      "Epoch 31/200\n",
      "0s - loss: 0.8987\n",
      "Epoch 32/200\n",
      "0s - loss: 0.8949\n",
      "Epoch 33/200\n",
      "0s - loss: 0.8931\n",
      "Epoch 34/200\n",
      "0s - loss: 0.8918\n",
      "Epoch 35/200\n",
      "0s - loss: 0.8879\n",
      "Epoch 36/200\n",
      "0s - loss: 0.8875\n",
      "Epoch 37/200\n",
      "0s - loss: 0.8872\n",
      "Epoch 38/200\n",
      "0s - loss: 0.8831\n",
      "Epoch 39/200\n",
      "0s - loss: 0.8831\n",
      "Epoch 40/200\n",
      "0s - loss: 0.8817\n",
      "Epoch 41/200\n",
      "0s - loss: 0.8812\n",
      "Epoch 42/200\n",
      "0s - loss: 0.8830\n",
      "Epoch 43/200\n",
      "0s - loss: 0.8887\n",
      "Epoch 44/200\n",
      "0s - loss: 0.8800\n",
      "Epoch 45/200\n",
      "0s - loss: 0.8782\n",
      "Epoch 46/200\n",
      "0s - loss: 0.8767\n",
      "Epoch 47/200\n",
      "0s - loss: 0.8796\n",
      "Epoch 48/200\n",
      "0s - loss: 0.8745\n",
      "Epoch 49/200\n",
      "0s - loss: 0.8758\n",
      "Epoch 50/200\n",
      "0s - loss: 0.8776\n",
      "Epoch 51/200\n",
      "0s - loss: 0.8768\n",
      "Epoch 52/200\n",
      "0s - loss: 0.8762\n",
      "Epoch 53/200\n",
      "0s - loss: 0.8714\n",
      "Epoch 54/200\n",
      "0s - loss: 0.8713\n",
      "Epoch 55/200\n",
      "0s - loss: 0.8747\n",
      "Epoch 56/200\n",
      "0s - loss: 0.8713\n",
      "Epoch 57/200\n",
      "0s - loss: 0.8682\n",
      "Epoch 58/200\n",
      "0s - loss: 0.8668\n",
      "Epoch 59/200\n",
      "0s - loss: 0.8661\n",
      "Epoch 60/200\n",
      "0s - loss: 0.8665\n",
      "Epoch 61/200\n",
      "0s - loss: 0.8669\n",
      "Epoch 62/200\n",
      "0s - loss: 0.8648\n",
      "Epoch 63/200\n",
      "0s - loss: 0.8657\n",
      "Epoch 64/200\n",
      "0s - loss: 0.8629\n",
      "Epoch 65/200\n",
      "0s - loss: 0.8673\n",
      "Epoch 66/200\n",
      "0s - loss: 0.8623\n",
      "Epoch 67/200\n",
      "0s - loss: 0.8615\n",
      "Epoch 68/200\n",
      "0s - loss: 0.8612\n",
      "Epoch 69/200\n",
      "0s - loss: 0.8659\n",
      "Epoch 70/200\n",
      "0s - loss: 0.8598\n",
      "Epoch 71/200\n",
      "0s - loss: 0.8586\n",
      "Epoch 72/200\n",
      "0s - loss: 0.8635\n",
      "Epoch 73/200\n",
      "0s - loss: 0.8576\n",
      "Epoch 74/200\n",
      "0s - loss: 0.8579\n",
      "Epoch 75/200\n",
      "0s - loss: 0.8583\n",
      "Epoch 76/200\n",
      "0s - loss: 0.8645\n",
      "Epoch 77/200\n",
      "0s - loss: 0.8560\n",
      "Epoch 78/200\n",
      "0s - loss: 0.8566\n",
      "Epoch 79/200\n",
      "0s - loss: 0.8585\n",
      "Epoch 80/200\n",
      "0s - loss: 0.8599\n",
      "Epoch 81/200\n",
      "0s - loss: 0.8572\n",
      "Epoch 82/200\n",
      "0s - loss: 0.8538\n",
      "Epoch 83/200\n",
      "0s - loss: 0.8579\n",
      "Epoch 84/200\n",
      "0s - loss: 0.8521\n",
      "Epoch 85/200\n",
      "0s - loss: 0.8531\n",
      "Epoch 86/200\n",
      "0s - loss: 0.8574\n",
      "Epoch 87/200\n",
      "0s - loss: 0.8548\n",
      "Epoch 88/200\n",
      "0s - loss: 0.8507\n",
      "Epoch 89/200\n",
      "0s - loss: 0.8510\n",
      "Epoch 90/200\n",
      "0s - loss: 0.8516\n",
      "Epoch 91/200\n",
      "0s - loss: 0.8506\n",
      "Epoch 92/200\n",
      "0s - loss: 0.8519\n",
      "Epoch 93/200\n",
      "0s - loss: 0.8499\n",
      "Epoch 94/200\n",
      "0s - loss: 0.8532\n",
      "Epoch 95/200\n",
      "0s - loss: 0.8505\n",
      "Epoch 96/200\n",
      "0s - loss: 0.8481\n",
      "Epoch 97/200\n",
      "0s - loss: 0.8499\n",
      "Epoch 98/200\n",
      "0s - loss: 0.8476\n",
      "Epoch 99/200\n",
      "0s - loss: 0.8535\n",
      "Epoch 100/200\n",
      "0s - loss: 0.8481\n",
      "Epoch 101/200\n",
      "0s - loss: 0.8476\n",
      "Epoch 102/200\n",
      "0s - loss: 0.8478\n",
      "Epoch 103/200\n",
      "0s - loss: 0.8464\n",
      "Epoch 104/200\n",
      "0s - loss: 0.8478\n",
      "Epoch 105/200\n",
      "0s - loss: 0.8461\n",
      "Epoch 106/200\n",
      "0s - loss: 0.8464\n",
      "Epoch 107/200\n",
      "0s - loss: 0.8471\n",
      "Epoch 108/200\n",
      "0s - loss: 0.8483\n",
      "Epoch 109/200\n",
      "0s - loss: 0.8507\n",
      "Epoch 110/200\n",
      "0s - loss: 0.8544\n",
      "Epoch 111/200\n",
      "0s - loss: 0.8460\n",
      "Epoch 112/200\n",
      "0s - loss: 0.8455\n",
      "Epoch 113/200\n",
      "0s - loss: 0.8448\n",
      "Epoch 114/200\n",
      "0s - loss: 0.8455\n",
      "Epoch 115/200\n",
      "0s - loss: 0.8459\n",
      "Epoch 116/200\n",
      "0s - loss: 0.8454\n",
      "Epoch 117/200\n",
      "0s - loss: 0.8439\n",
      "Epoch 118/200\n",
      "0s - loss: 0.8446\n",
      "Epoch 119/200\n",
      "0s - loss: 0.8435\n",
      "Epoch 120/200\n",
      "0s - loss: 0.8435\n",
      "Epoch 121/200\n",
      "0s - loss: 0.8447\n",
      "Epoch 122/200\n",
      "0s - loss: 0.8489\n",
      "Epoch 123/200\n",
      "0s - loss: 0.8404\n",
      "Epoch 124/200\n",
      "0s - loss: 0.8432\n",
      "Epoch 125/200\n",
      "0s - loss: 0.8411\n",
      "Epoch 126/200\n",
      "0s - loss: 0.8434\n",
      "Epoch 127/200\n",
      "0s - loss: 0.8439\n",
      "Epoch 128/200\n",
      "0s - loss: 0.8438\n",
      "Epoch 129/200\n",
      "0s - loss: 0.8415\n",
      "Epoch 130/200\n",
      "0s - loss: 0.8440\n",
      "Epoch 131/200\n",
      "0s - loss: 0.8430\n",
      "Epoch 132/200\n",
      "0s - loss: 0.8483\n",
      "Epoch 133/200\n",
      "0s - loss: 0.8439\n",
      "Epoch 134/200\n",
      "0s - loss: 0.8465\n",
      "Epoch 135/200\n",
      "0s - loss: 0.8402\n",
      "Epoch 136/200\n",
      "0s - loss: 0.8412\n",
      "Epoch 137/200\n",
      "0s - loss: 0.8399\n",
      "Epoch 138/200\n",
      "0s - loss: 0.8423\n",
      "Epoch 139/200\n",
      "0s - loss: 0.8516\n",
      "Epoch 140/200\n",
      "0s - loss: 0.8406\n",
      "Epoch 141/200\n",
      "0s - loss: 0.8422\n",
      "Epoch 142/200\n",
      "0s - loss: 0.8398\n",
      "Epoch 143/200\n",
      "0s - loss: 0.8456\n",
      "Epoch 144/200\n",
      "0s - loss: 0.8423\n",
      "Epoch 145/200\n",
      "0s - loss: 0.8475\n",
      "Epoch 146/200\n",
      "0s - loss: 0.8380\n",
      "Epoch 147/200\n",
      "0s - loss: 0.8414\n",
      "Epoch 148/200\n",
      "0s - loss: 0.8384\n",
      "Epoch 149/200\n",
      "0s - loss: 0.8398\n",
      "Epoch 150/200\n",
      "0s - loss: 0.8425\n",
      "Epoch 151/200\n",
      "0s - loss: 0.8412\n",
      "Epoch 152/200\n",
      "0s - loss: 0.8368\n",
      "Epoch 153/200\n",
      "0s - loss: 0.8439\n",
      "Epoch 154/200\n",
      "0s - loss: 0.8370\n",
      "Epoch 155/200\n",
      "0s - loss: 0.8382\n",
      "Epoch 156/200\n",
      "0s - loss: 0.8373\n",
      "Epoch 157/200\n",
      "0s - loss: 0.8380\n",
      "Epoch 158/200\n",
      "0s - loss: 0.8431\n",
      "Epoch 159/200\n",
      "0s - loss: 0.8407\n",
      "Epoch 160/200\n",
      "0s - loss: 0.8368\n",
      "Epoch 161/200\n",
      "0s - loss: 0.8411\n",
      "Epoch 162/200\n",
      "0s - loss: 0.8359\n",
      "Epoch 163/200\n",
      "0s - loss: 0.8391\n",
      "Epoch 164/200\n",
      "0s - loss: 0.8414\n",
      "Epoch 165/200\n",
      "0s - loss: 0.8377\n",
      "Epoch 166/200\n",
      "0s - loss: 0.8379\n",
      "Epoch 167/200\n",
      "0s - loss: 0.8355\n",
      "Epoch 168/200\n",
      "0s - loss: 0.8358\n",
      "Epoch 169/200\n",
      "0s - loss: 0.8363\n",
      "Epoch 170/200\n",
      "0s - loss: 0.8475\n",
      "Epoch 171/200\n",
      "0s - loss: 0.8364\n",
      "Epoch 172/200\n",
      "0s - loss: 0.8362\n",
      "Epoch 173/200\n",
      "0s - loss: 0.8356\n",
      "Epoch 174/200\n",
      "0s - loss: 0.8339\n",
      "Epoch 175/200\n",
      "0s - loss: 0.8365\n",
      "Epoch 176/200\n",
      "0s - loss: 0.8516\n",
      "Epoch 177/200\n",
      "0s - loss: 0.8352\n",
      "Epoch 178/200\n",
      "0s - loss: 0.8334\n",
      "Epoch 179/200\n",
      "0s - loss: 0.8408\n",
      "Epoch 180/200\n",
      "0s - loss: 0.8349\n",
      "Epoch 181/200\n",
      "0s - loss: 0.8505\n",
      "Epoch 182/200\n",
      "0s - loss: 0.8372\n",
      "Epoch 183/200\n",
      "0s - loss: 0.8344\n",
      "Epoch 184/200\n",
      "0s - loss: 0.8374\n",
      "Epoch 185/200\n",
      "0s - loss: 0.8350\n",
      "Epoch 186/200\n",
      "0s - loss: 0.8324\n",
      "Epoch 187/200\n",
      "0s - loss: 0.8340\n",
      "Epoch 188/200\n",
      "0s - loss: 0.8364\n",
      "Epoch 189/200\n",
      "0s - loss: 0.8457\n",
      "Epoch 190/200\n",
      "0s - loss: 0.8323\n",
      "Epoch 191/200\n",
      "0s - loss: 0.8366\n",
      "Epoch 192/200\n",
      "0s - loss: 0.8327\n",
      "Epoch 193/200\n",
      "0s - loss: 0.8315\n",
      "Epoch 194/200\n",
      "0s - loss: 0.8407\n",
      "Epoch 195/200\n",
      "0s - loss: 0.8349\n",
      "Epoch 196/200\n",
      "0s - loss: 0.8310\n",
      "Epoch 197/200\n",
      "0s - loss: 0.8313\n",
      "Epoch 198/200\n",
      "0s - loss: 0.8298\n",
      "Epoch 199/200\n",
      "0s - loss: 0.8321\n",
      "Epoch 200/200\n",
      "0s - loss: 0.8425\n"
     ]
    },
    {
     "data": {
      "text/plain": [
       "<keras.callbacks.History at 0x7f175651af50>"
      ]
     },
     "execution_count": 125,
     "metadata": {},
     "output_type": "execute_result"
    }
   ],
   "source": [
    "# create and fit MLP model\n",
    "model = Sequential()\n",
    "model.add(Dense(8, input_dim=look_back, activation='relu'))\n",
    "model.add(Dense(1))\n",
    "model.compile(loss='mean_squared_error', optimizer='adam')\n",
    "model.fit(trainX, trainY, nb_epoch=200, batch_size=2, verbose=2)"
   ]
  },
  {
   "cell_type": "code",
   "execution_count": 127,
   "metadata": {
    "collapsed": false
   },
   "outputs": [
    {
     "name": "stdout",
     "output_type": "stream",
     "text": [
      "Train Score: 0.83 MSE (0.91 RMSE)\n",
      "Test Score: 8.53 MSE (2.92 RMSE)\n"
     ]
    }
   ],
   "source": [
    "# Estimate model performance\n",
    "import math\n",
    "trainScore = model.evaluate(trainX, trainY, verbose=0)\n",
    "print('Train Score: %.2f MSE (%.2f RMSE)' % (trainScore, math.sqrt(trainScore)))\n",
    "testScore = model.evaluate(testX, testY, verbose=0)\n",
    "print('Test Score: %.2f MSE (%.2f RMSE)' % (testScore, math.sqrt(testScore)))"
   ]
  },
  {
   "cell_type": "code",
   "execution_count": 128,
   "metadata": {
    "collapsed": false
   },
   "outputs": [
    {
     "data": {
      "image/png": "[encoded data removed]",
      "text/plain": [
       "<matplotlib.figure.Figure at 0x7f17583ba710>"
      ]
     },
     "metadata": {},
     "output_type": "display_data"
    }
   ],
   "source": [
    "# generate predictions for training\n",
    "trainPredict = model.predict(trainX)\n",
    "testPredict = model.predict(testX)\n",
    " \n",
    "# shift train predictions for plotting\n",
    "trainPredictPlot = numpy.empty_like(dataset)\n",
    "trainPredictPlot[:, :] = numpy.nan\n",
    "trainPredictPlot[look_back:len(trainPredict)+look_back, :] = trainPredict\n",
    " \n",
    "# shift test predictions for plotting\n",
    "testPredictPlot = numpy.empty_like(dataset)\n",
    "testPredictPlot[:, :] = numpy.nan\n",
    "testPredictPlot[len(trainPredict)+(look_back*2)+1:len(dataset)-1, :] = testPredict\n",
    " \n",
    "# plot baseline and predictions\n",
    "plt.plot(dataset)\n",
    "plt.plot(trainPredictPlot)\n",
    "plt.plot(testPredictPlot)\n",
    "plt.show()"
   ]
  },
  {
   "cell_type": "code",
   "execution_count": 97,
   "metadata": {
    "collapsed": false
   },
   "outputs": [
    {
     "data": {
      "text/plain": [
       "array([[ 2.02349257],\n",
       "       [ 1.40486813],\n",
       "       [ 1.60327172],\n",
       "       [ 1.47522211],\n",
       "       [ 1.14210165],\n",
       "       [ 0.94218862],\n",
       "       [ 0.784594  ],\n",
       "       [ 0.6819486 ],\n",
       "       [ 0.87407714],\n",
       "       [ 0.80204469],\n",
       "       [ 0.85896409],\n",
       "       [ 0.76862603],\n",
       "       [ 2.28164077],\n",
       "       [ 4.44061756],\n",
       "       [ 3.4902823 ]], dtype=float32)"
      ]
     },
     "execution_count": 97,
     "metadata": {},
     "output_type": "execute_result"
    }
   ],
   "source": [
    "testPredict"
   ]
  },
  {
   "cell_type": "code",
   "execution_count": 50,
   "metadata": {
    "collapsed": false
   },
   "outputs": [
    {
     "data": {
      "text/plain": [
       "array([[ 0.52239186],\n",
       "       [ 0.52239186],\n",
       "       [ 0.52239186],\n",
       "       [ 0.52239186],\n",
       "       [ 0.52239186],\n",
       "       [ 0.52239186],\n",
       "       [ 0.52239186],\n",
       "       [ 0.52239186],\n",
       "       [ 0.52239186],\n",
       "       [ 0.52239186],\n",
       "       [ 0.52239186],\n",
       "       [ 0.52239186],\n",
       "       [ 0.52239186],\n",
       "       [ 0.52239186],\n",
       "       [ 0.52239186],\n",
       "       [ 0.52239186],\n",
       "       [ 0.52239186],\n",
       "       [ 0.52239186],\n",
       "       [ 0.52239186],\n",
       "       [ 0.52239186],\n",
       "       [ 0.52239186]], dtype=float32)"
      ]
     },
     "execution_count": 50,
     "metadata": {},
     "output_type": "execute_result"
    }
   ],
   "source": [
    "testPredict"
   ]
  }
 ],
 "metadata": {
  "kernelspec": {
   "display_name": "Python 2",
   "language": "python",
   "name": "python2"
  },
  "language_info": {
   "codemirror_mode": {
    "name": "ipython",
    "version": 2
   },
   "file_extension": ".py",
   "mimetype": "text/x-python",
   "name": "python",
   "nbconvert_exporter": "python",
   "pygments_lexer": "ipython2",
   "version": "2.7.9"
  }
 },
 "nbformat": 4,
 "nbformat_minor": 1
}
