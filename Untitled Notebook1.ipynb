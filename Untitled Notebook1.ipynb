{
 "cells": [
  {
   "cell_type": "code",
   "execution_count": 8,
   "metadata": {
    "collapsed": false
   },
   "outputs": [
    {
     "name": "stdout",
     "output_type": "stream",
     "text": [
      "Searching for rpy2\n",
      "Reading https://pypi.python.org/simple/rpy2/\n",
      "Downloading https://pypi.python.org/packages/2a/8e/27f782e9febf4e358145e78ac6f9c65535a154da9193ea7f80c8da37d67b/rpy2-2.8.3.tar.gz#md5=9e5c76f311ce19b549683f0279b9663b\n",
      "Best match: rpy2 2.8.3\n",
      "Processing rpy2-2.8.3.tar.gz\n",
      "Writing /tmp/easy_install-qMefJz/rpy2-2.8.3/setup.cfg\n",
      "Running rpy2-2.8.3/setup.py -q bdist_egg --dist-dir /tmp/easy_install-qMefJz/rpy2-2.8.3/egg-dist-tmp-um5W9B\n",
      "Error: Tried to guess R's HOME but no command 'R' in the PATH.\n"
     ]
    },
    {
     "name": "stderr",
     "output_type": "stream",
     "text": [
      "error: Setup script exited with 1\n"
     ]
    }
   ],
   "source": [
    "%bash\n",
    "easy_install rpy2"
   ]
  }
 ],
 "metadata": {
  "kernelspec": {
   "display_name": "Python 2",
   "language": "python",
   "name": "python2"
  },
  "language_info": {
   "codemirror_mode": {
    "name": "ipython",
    "version": 2
   },
   "file_extension": ".py",
   "mimetype": "text/x-python",
   "name": "python",
   "nbconvert_exporter": "python",
   "pygments_lexer": "ipython2",
   "version": "2.7.9"
  }
 },
 "nbformat": 4,
 "nbformat_minor": 1
}
